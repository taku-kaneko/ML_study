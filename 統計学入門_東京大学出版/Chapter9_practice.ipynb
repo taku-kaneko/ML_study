{
 "metadata": {
  "language_info": {
   "codemirror_mode": {
    "name": "ipython",
    "version": 3
   },
   "file_extension": ".py",
   "mimetype": "text/x-python",
   "name": "python",
   "nbconvert_exporter": "python",
   "pygments_lexer": "ipython3",
   "version": "3.7.3-final"
  },
  "orig_nbformat": 2,
  "kernelspec": {
   "name": "python_defaultSpec_1600096911261",
   "display_name": "Python 3.7.3 64-bit ('py37': conda)"
  }
 },
 "nbformat": 4,
 "nbformat_minor": 2,
 "cells": [
  {
   "cell_type": "code",
   "execution_count": 72,
   "metadata": {},
   "outputs": [],
   "source": [
    "import numpy as np\n",
    "import pandas as pd\n",
    "import matplotlib.pyplot as plt\n",
    "import seaborn as sns\n",
    "import math\n",
    "from scipy.stats import norm"
   ]
  },
  {
   "cell_type": "markdown",
   "metadata": {},
   "source": [
    "## Problem 1"
   ]
  },
  {
   "cell_type": "markdown",
   "metadata": {},
   "source": [
    "標本平均$\\bar{X}$は母平均$\\mu$に対して，過大，過小評価せず正しく推定する役割を持つ（$\\mathbb{E}(\\bar{X}) = \\mu$）．\n",
    "標本分散$V(\\bar{X})$は母分散$\\sigma^2$は，不偏分散であればその期待値は母分散に一致するが，$n-1$で正規化する場合の標本分散は，母分散を過小評価してしまう．"
   ]
  },
  {
   "cell_type": "markdown",
   "metadata": {},
   "source": [
    "## Problem 2"
   ]
  },
  {
   "cell_type": "code",
   "execution_count": 17,
   "metadata": {
    "tags": []
   },
   "outputs": [
    {
     "output_type": "stream",
     "name": "stdout",
     "text": "mean: 1.21, sigma2: 0.00110\n"
    }
   ],
   "source": [
    "X = np.array([1.22, 1.24, 1.25, 1.19, 1.17, 1.18])\n",
    "mu = X.mean()\n",
    "sigma2 = ((X - mu) ** 2).sum() / (X.size - 1)\n",
    "print(f\"mean: {mu:.2f}, sigma2: {sigma2:.5f}\")"
   ]
  },
  {
   "cell_type": "markdown",
   "metadata": {},
   "source": [
    "## Problem 3"
   ]
  },
  {
   "cell_type": "code",
   "execution_count": 18,
   "metadata": {},
   "outputs": [],
   "source": [
    "s1 = [0.3104913, 0.3304700, 0.0324358, 0.8283330, 0.1727581, 0.6306326, 0.7210595, 0.2451280, 0.7243750, 0.8197760]\n",
    "s2 = [0.2753351, 0.4359388, 0.7160295, 0.7775517, 0.3251019, 0.1736013, 0.0921532, 0.1318467, 0.0642188, 0.8002448]\n",
    "s3 = [0.3368595, 0.2513685, 0.2697405, 0.1164189, 0.3085003, 0.2234060, 0.9427391, 0.5800890, 0.7194922, 0.8344245]\n",
    "s4 = [0.4086511, 0.8016156, 0.3221239, 0.8498936, 0.4362011, 0.8559286, 0.9982964, 0.5540422, 0.3757575, 0.1312537]\n",
    "s5 = [0.4449823, 0.1457471, 0.9303545, 0.1033269, 0.4415264, 0.5430776, 0.8274743, 0.3946336, 0.8696082, 0.6028266]\n",
    "X = pd.DataFrame({\"s1\": s1, \"s2\": s2, \"s3\": s3, \"s4\": s4, \"s5\": s5})"
   ]
  },
  {
   "cell_type": "code",
   "execution_count": 42,
   "metadata": {},
   "outputs": [
    {
     "output_type": "execute_result",
     "data": {
      "text/plain": "s1   -0.002370\ns2    0.000000\ns3   -0.008298\ns4   -0.008144\ns5   -0.008141\nS2    0.000000\ndtype: float64"
     },
     "metadata": {},
     "execution_count": 42
    }
   ],
   "source": [
    "# S2の方がs2に比べて1/12との差が大きい\n",
    "s2 = ((X - X.mean()) ** 2).sum() / 9\n",
    "S2 = ((X - X.mean()) ** 2).sum() / 10\n",
    "res = pd.DataFrame({\"s2\": s2, \"S2\":S2})\n",
    "np.abs(1 / 12 - s2) - np.abs(1 / 12 - S2)"
   ]
  },
  {
   "cell_type": "markdown",
   "metadata": {},
   "source": [
    "## Problem 4"
   ]
  },
  {
   "cell_type": "code",
   "execution_count": null,
   "metadata": {},
   "outputs": [],
   "source": []
  },
  {
   "cell_type": "markdown",
   "metadata": {},
   "source": [
    "## Problem 5"
   ]
  },
  {
   "cell_type": "code",
   "execution_count": 44,
   "metadata": {},
   "outputs": [],
   "source": [
    "def binominal(x, n, p):\n",
    "    comb = math.factorial(n) / (math.factorial(n - x) * math.factorial(x))\n",
    "    f_x = comb * p ** x * (1 - p) ** (n - x)\n",
    "    return f_x"
   ]
  },
  {
   "cell_type": "code",
   "execution_count": 46,
   "metadata": {},
   "outputs": [
    {
     "output_type": "execute_result",
     "data": {
      "text/plain": "0.9720000000000001"
     },
     "metadata": {},
     "execution_count": 46
    }
   ],
   "source": [
    "binominal(2, 3, 0.9) + binominal(3, 3, 0.9)"
   ]
  },
  {
   "cell_type": "code",
   "execution_count": 49,
   "metadata": {},
   "outputs": [
    {
     "output_type": "execute_result",
     "data": {
      "text/plain": "0.9914399999999999"
     },
     "metadata": {},
     "execution_count": 49
    }
   ],
   "source": [
    "np.sum([binominal(x, 5, 0.9) for x in [3, 4, 5]]) # n=5の方が確率が高い"
   ]
  },
  {
   "cell_type": "markdown",
   "metadata": {},
   "source": [
    "## Problem 6"
   ]
  },
  {
   "cell_type": "code",
   "execution_count": 51,
   "metadata": {},
   "outputs": [],
   "source": [
    "def poisson(x, lam=0.61):\n",
    "    return np.exp(-lam) * (lam**x) / (np.math.factorial(x))"
   ]
  },
  {
   "cell_type": "code",
   "execution_count": 55,
   "metadata": {},
   "outputs": [
    {
     "output_type": "execute_result",
     "data": {
      "text/plain": "0.4678964236252845"
     },
     "metadata": {},
     "execution_count": 55
    }
   ],
   "source": [
    "1 - np.sum([poisson(x, lam=1.5 * 3) for x in [0, 1, 2, 3, 4]])"
   ]
  },
  {
   "cell_type": "markdown",
   "metadata": {},
   "source": [
    "## Problem 7"
   ]
  },
  {
   "cell_type": "code",
   "execution_count": 56,
   "metadata": {},
   "outputs": [],
   "source": [
    "data = np.array([[9.7, 526.6], [4.0, 508.7], [5.7, 703.8], [7.8, 867.2], [8.4, 621.6]]).T\n",
    "X = pd.DataFrame(data, columns=[\"北海道\", \"東京\", \"大阪\", \"福岡\", \"全国\"], index=[\"交通事故死亡者数\", \"交通事故死傷者数\"])"
   ]
  },
  {
   "cell_type": "code",
   "execution_count": 57,
   "metadata": {},
   "outputs": [
    {
     "output_type": "execute_result",
     "data": {
      "text/plain": "            北海道     東京     大阪     福岡     全国\n交通事故死亡者数    9.7    4.0    5.7    7.8    8.4\n交通事故死傷者数  526.6  508.7  703.8  867.2  621.6",
      "text/html": "<div>\n<style scoped>\n    .dataframe tbody tr th:only-of-type {\n        vertical-align: middle;\n    }\n\n    .dataframe tbody tr th {\n        vertical-align: top;\n    }\n\n    .dataframe thead th {\n        text-align: right;\n    }\n</style>\n<table border=\"1\" class=\"dataframe\">\n  <thead>\n    <tr style=\"text-align: right;\">\n      <th></th>\n      <th>北海道</th>\n      <th>東京</th>\n      <th>大阪</th>\n      <th>福岡</th>\n      <th>全国</th>\n    </tr>\n  </thead>\n  <tbody>\n    <tr>\n      <th>交通事故死亡者数</th>\n      <td>9.7</td>\n      <td>4.0</td>\n      <td>5.7</td>\n      <td>7.8</td>\n      <td>8.4</td>\n    </tr>\n    <tr>\n      <th>交通事故死傷者数</th>\n      <td>526.6</td>\n      <td>508.7</td>\n      <td>703.8</td>\n      <td>867.2</td>\n      <td>621.6</td>\n    </tr>\n  </tbody>\n</table>\n</div>"
     },
     "metadata": {},
     "execution_count": 57
    }
   ],
   "source": [
    "X"
   ]
  },
  {
   "cell_type": "code",
   "execution_count": 86,
   "metadata": {
    "tags": []
   },
   "outputs": [
    {
     "output_type": "stream",
     "name": "stdout",
     "text": "北海道:  0.496\n東京:  0.992\n大阪:  0.935\n福岡:  0.741\n全国:  0.666\n"
    }
   ],
   "source": [
    "# (i)\n",
    "for i, c in X.iteritems():\n",
    "    lam = c[\"交通事故死亡者数\"]\n",
    "    prob = np.sum([poisson(x, lam=lam) for x in range(10)])\n",
    "    print(f\"{c.name}: {prob: .3f}\")"
   ]
  },
  {
   "cell_type": "code",
   "execution_count": 91,
   "metadata": {
    "tags": []
   },
   "outputs": [
    {
     "output_type": "stream",
     "name": "stdout",
     "text": "北海道:  0.9413373260\n東京:  0.9469828394\n大阪:  0.8698381512\n福岡:  0.7837467460\n全国:  0.9063592358\n"
    }
   ],
   "source": [
    "# (ii)\n",
    "for i, c in X.iteritems():\n",
    "    lam = c[\"交通事故死傷者数\"] / 365\n",
    "    prob = np.sum([poisson(x, lam=lam) for x in range(4)])\n",
    "    print(f\"{c.name}: {prob: .10f}\")"
   ]
  },
  {
   "cell_type": "markdown",
   "metadata": {},
   "source": [
    "## Problem 8"
   ]
  },
  {
   "cell_type": "code",
   "execution_count": 94,
   "metadata": {},
   "outputs": [],
   "source": [
    "X = np.array([171.0, 167.3, 170.6, 178.7, 162.3])"
   ]
  },
  {
   "cell_type": "code",
   "execution_count": 95,
   "metadata": {
    "tags": []
   },
   "outputs": [
    {
     "output_type": "stream",
     "name": "stdout",
     "text": "母平均は169.98\n"
    }
   ],
   "source": [
    "print(f\"母平均は{X.mean():.2f}\")"
   ]
  },
  {
   "cell_type": "code",
   "execution_count": 106,
   "metadata": {
    "tags": []
   },
   "outputs": [
    {
     "output_type": "stream",
     "name": "stdout",
     "text": "(171.0, 167.3, 170.6)| mu: 169.63, sigma: 2.75\n(171.0, 167.3, 178.7)| mu: 172.33, sigma: 22.55\n(171.0, 167.3, 162.3)| mu: 166.87, sigma: 12.71\n(171.0, 170.6, 178.7)| mu: 173.43, sigma: 13.90\n(171.0, 170.6, 162.3)| mu: 167.97, sigma: 16.08\n(171.0, 178.7, 162.3)| mu: 170.67, sigma: 44.88\n(167.3, 170.6, 178.7)| mu: 172.20, sigma: 22.94\n(167.3, 170.6, 162.3)| mu: 166.73, sigma: 11.64\n(167.3, 178.7, 162.3)| mu: 169.43, sigma: 47.10\n(170.6, 178.7, 162.3)| mu: 170.53, sigma: 44.83\n"
    }
   ],
   "source": [
    "from more_itertools import distinct_combinations\n",
    "comb = []\n",
    "mu = []\n",
    "sigma = []\n",
    "for x in distinct_combinations(X, 3):\n",
    "    comb += [x]\n",
    "    mu += [np.mean(x)]\n",
    "    sigma += [np.sum((x - np.mean(x)) ** 2) / 3]\n",
    "    print(f\"{x}| mu: {np.mean(x):.2f}, sigma: {np.sum((x - np.mean(x)) ** 2) / 3:.2f}\")\n",
    "\n",
    "res = pd.DataFrame({\"comb\": comb, \"mu\": mu, \"sigma\": sigma})"
   ]
  },
  {
   "cell_type": "code",
   "execution_count": 122,
   "metadata": {
    "tags": []
   },
   "outputs": [
    {
     "output_type": "stream",
     "name": "stdout",
     "text": "標本平均は169.98で母平均は169.98\n標本分散は23.94で母分散は23.94\n"
    }
   ],
   "source": [
    "print(f\"標本平均は{res['mu'].mean():.2f}で母平均は{X.mean():.2f}\")\n",
    "print(f\"標本分散は{res['sigma'].mean():.2f}で母分散は{(5 - 3) / (5 - 1) * (np.sum((X - np.mean(X)) ** 2) / 3):.2f}\")"
   ]
  },
  {
   "cell_type": "markdown",
   "metadata": {},
   "source": [
    "## Problem 9"
   ]
  },
  {
   "cell_type": "code",
   "execution_count": null,
   "metadata": {},
   "outputs": [],
   "source": []
  }
 ]
}