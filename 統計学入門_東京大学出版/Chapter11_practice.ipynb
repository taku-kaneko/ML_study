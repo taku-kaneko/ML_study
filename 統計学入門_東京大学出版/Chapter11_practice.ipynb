{
 "metadata": {
  "language_info": {
   "codemirror_mode": {
    "name": "ipython",
    "version": 3
   },
   "file_extension": ".py",
   "mimetype": "text/x-python",
   "name": "python",
   "nbconvert_exporter": "python",
   "pygments_lexer": "ipython3",
   "version": "3.7.3-final"
  },
  "orig_nbformat": 2,
  "kernelspec": {
   "name": "Python 3.7.3 64-bit ('py37': conda)",
   "display_name": "Python 3.7.3 64-bit ('py37': conda)",
   "metadata": {
    "interpreter": {
     "hash": "73fc47c8124017a1318ab51e62bfda55c3c43fb5697017afe611805814153412"
    }
   }
  }
 },
 "nbformat": 4,
 "nbformat_minor": 2,
 "cells": [
  {
   "cell_type": "code",
   "execution_count": 3,
   "metadata": {},
   "outputs": [],
   "source": [
    "import numpy as np\n",
    "import matplotlib.pyplot as plt\n",
    "from scipy.stats import norm"
   ]
  },
  {
   "source": [
    "## 11.3"
   ],
   "cell_type": "markdown",
   "metadata": {}
  },
  {
   "cell_type": "code",
   "execution_count": 25,
   "metadata": {},
   "outputs": [],
   "source": [
    "x = np.array([9.75, 7.95, 12.80, 8.25, 9.86])\n",
    "sigma2 = 4\n",
    "n = 5"
   ]
  },
  {
   "cell_type": "code",
   "execution_count": 29,
   "metadata": {
    "tags": []
   },
   "outputs": [
    {
     "output_type": "stream",
     "name": "stdout",
     "text": "7.969 <= mu <= 11.475\n"
    }
   ],
   "source": [
    "x_bar = x.mean()\n",
    "p = norm.ppf(q=1 - 0.05 / 2, loc=0, scale=1)\n",
    "L = x_bar - np.sqrt(sigma2 / n) * p\n",
    "U = x_bar + np.sqrt(sigma2 / n) * p\n",
    "print(f\"{L:.3f} <= mu <= {U:.3f}\")"
   ]
  },
  {
   "cell_type": "code",
   "execution_count": 31,
   "metadata": {},
   "outputs": [
    {
     "output_type": "execute_result",
     "data": {
      "text/plain": "2.5758293035489004"
     },
     "metadata": {},
     "execution_count": 31
    }
   ],
   "source": [
    "norm.ppf(q=1 - 0.005, loc=0, scale=1)"
   ]
  },
  {
   "cell_type": "code",
   "execution_count": 33,
   "metadata": {},
   "outputs": [
    {
     "output_type": "execute_result",
     "data": {
      "text/plain": "239.6304"
     },
     "metadata": {},
     "execution_count": 33
    }
   ],
   "source": [
    "(6 * 2.58) ** 2"
   ]
  },
  {
   "source": [
    "## 11.4"
   ],
   "cell_type": "markdown",
   "metadata": {}
  },
  {
   "cell_type": "code",
   "execution_count": 36,
   "metadata": {},
   "outputs": [],
   "source": [
    "a = np.array([7.97, 7.66, 7.59, 8.44, 8.05, 8.08, 8.35, 7.77, 7.98, 8.15])\n",
    "b = np.array([8.06, 8.27, 8.45, 8.05, 8.51, 8.14, 8.09, 8.15, 8.16, 8.42])\n",
    "m = n = a.size"
   ]
  },
  {
   "cell_type": "code",
   "execution_count": 35,
   "metadata": {},
   "outputs": [],
   "source": [
    "s2_1 = np.var(a, ddof=1)\n",
    "s2_2 = np.var(b, ddof=1)"
   ]
  },
  {
   "cell_type": "code",
   "execution_count": 50,
   "metadata": {
    "tags": []
   },
   "outputs": [
    {
     "output_type": "stream",
     "name": "stdout",
     "text": "-0.442 <= mu <= -0.010\n"
    }
   ],
   "source": [
    "from scipy.stats import t\n",
    "s2 = 1 / (m + n - 2) * (((a - a.mean()) ** 2).sum() + ((b - b.mean()) ** 2).sum())\n",
    "p = t.ppf(1 - 0.05 / 2, m + n - 2)\n",
    "L = a.mean() - b.mean() - p * np.sqrt(s2) * np.sqrt(1 / m + 1 / n)\n",
    "U = a.mean() - b.mean() + p * np.sqrt(s2) * np.sqrt(1 / m + 1 / n)\n",
    "print(f\"{L:.3f} <= mu <= {U:.3f}\")"
   ]
  },
  {
   "source": [
    "## 11.6"
   ],
   "cell_type": "markdown",
   "metadata": {}
  },
  {
   "cell_type": "code",
   "execution_count": 56,
   "metadata": {},
   "outputs": [
    {
     "output_type": "execute_result",
     "data": {
      "text/plain": "(25.0, 0.6666666666666666, 21.0, 17.714285714285715)"
     },
     "metadata": {},
     "execution_count": 56
    }
   ],
   "source": [
    "a = np.array([25, 24, 25, 26])\n",
    "b = np.array([23, 18, 22, 28, 17, 25, 19, 16])\n",
    "m, n = a.size, b.size\n",
    "\n",
    "s2_1 = np.var(a, ddof=1)\n",
    "s2_2 = np.var(b, ddof=1)\n",
    "a.mean(), s2_1, b.mean(), s2_2"
   ]
  },
  {
   "cell_type": "code",
   "execution_count": 58,
   "metadata": {},
   "outputs": [
    {
     "output_type": "execute_result",
     "data": {
      "text/plain": "7.987828071510078"
     },
     "metadata": {},
     "execution_count": 58
    }
   ],
   "source": [
    "nu = (s2_1 / m + s2_2 / n) ** 2 / ((s2_1 / m) ** 2 / (m - 1) + (s2_2 / n) ** 2 / (n - 1))\n",
    "nu"
   ]
  },
  {
   "cell_type": "code",
   "execution_count": 60,
   "metadata": {
    "tags": []
   },
   "outputs": [
    {
     "output_type": "stream",
     "name": "stdout",
     "text": "0.442 <= mu <= 7.558\n"
    }
   ],
   "source": [
    "from scipy.stats import t\n",
    "p = t.ppf(1 - 0.05 / 2, 8)\n",
    "L = a.mean() - b.mean() - p * np.sqrt(s2_1 / m + s2_2 / n)\n",
    "U = a.mean() - b.mean() + p * np.sqrt(s2_1 / m + s2_2 / n)\n",
    "print(f\"{L:.3f} <= mu <= {U:.3f}\")"
   ]
  },
  {
   "cell_type": "code",
   "execution_count": 45,
   "metadata": {},
   "outputs": [
    {
     "output_type": "execute_result",
     "data": {
      "text/plain": "2.1788128296634177"
     },
     "metadata": {},
     "execution_count": 45
    }
   ],
   "source": [
    "p"
   ]
  },
  {
   "cell_type": "code",
   "execution_count": 62,
   "metadata": {},
   "outputs": [],
   "source": [
    "x = np.array([21.8, 22.4, 22.7, 24.5, 25.9, 24.9, 24.8, 25.3, 24.6])\n",
    "x_bar = x.mean()\n",
    "s2 = np.var(x, ddof=1)\n",
    "m_sqrt = np.sqrt(x.size)"
   ]
  },
  {
   "cell_type": "code",
   "execution_count": 63,
   "metadata": {
    "tags": []
   },
   "outputs": [
    {
     "output_type": "stream",
     "name": "stdout",
     "text": "22.551 <= mu <= 25.649\n"
    }
   ],
   "source": [
    "p = 3.25\n",
    "L = x_bar - p * np.sqrt(s2) / m_sqrt\n",
    "U = x_bar + p * np.sqrt(s2) / m_sqrt\n",
    "print(f\"{L:.3f} <= mu <= {U:.3f}\")"
   ]
  },
  {
   "cell_type": "code",
   "execution_count": 70,
   "metadata": {
    "tags": []
   },
   "outputs": [
    {
     "output_type": "stream",
     "name": "stdout",
     "text": "0.860 <= sigma2 <= 6.058\n"
    }
   ],
   "source": [
    "m = x.size\n",
    "p1 = 2.70039\n",
    "p2 = 19.0228\n",
    "L = (m - 1) * s2 / p2\n",
    "U = (m - 1) * s2 / p1\n",
    "print(f\"{L:.3f} <= sigma2 <= {U:.3f}\")"
   ]
  },
  {
   "cell_type": "code",
   "execution_count": 74,
   "metadata": {},
   "outputs": [],
   "source": [
    "y = np.array([22.1, 25.3, 23.3, 25.2, 25.3, 24.9, 24.9, 24.9, 24.9, 24.0])\n",
    "n = y.size\n",
    "y_bar = y.mean()\n",
    "s2 = 1 / (m + n - 2) * (((x - x.mean()) ** 2).sum() + ((y - y.mean()) ** 2).sum())"
   ]
  },
  {
   "cell_type": "code",
   "execution_count": 76,
   "metadata": {
    "tags": []
   },
   "outputs": [
    {
     "output_type": "stream",
     "name": "stdout",
     "text": "-1.579 <= mu <= 0.819\n"
    }
   ],
   "source": [
    "p = 2.101\n",
    "L = x_bar - y_bar - p * np.sqrt(s2) * np.sqrt(1 / m + 1 / n)\n",
    "U = x_bar - y_bar + p * np.sqrt(s2) * np.sqrt(1 / m + 1 / n)\n",
    "print(f\"{L:.3f} <= mu <= {U:.3f}\")"
   ]
  },
  {
   "source": [
    "## 11.8"
   ],
   "cell_type": "markdown",
   "metadata": {}
  },
  {
   "cell_type": "code",
   "execution_count": 83,
   "metadata": {},
   "outputs": [],
   "source": [
    "p_hat = 27 / 50\n",
    "z = norm.ppf(q=1 - 0.05 / 2, loc=0, scale=1)\n",
    "n = 50"
   ]
  },
  {
   "cell_type": "code",
   "execution_count": 84,
   "metadata": {
    "tags": []
   },
   "outputs": [
    {
     "output_type": "stream",
     "name": "stdout",
     "text": "0.402 <= mu <= 0.678\n"
    }
   ],
   "source": [
    "L = p_hat - z * np.sqrt((p_hat * (1 - p_hat)) / n)\n",
    "U = p_hat + z * np.sqrt((p_hat * (1 - p_hat)) / n)\n",
    "print(f\"{L:.3f} <= mu <= {U:.3f}\")"
   ]
  },
  {
   "source": [
    "## 11.9"
   ],
   "cell_type": "markdown",
   "metadata": {}
  },
  {
   "cell_type": "code",
   "execution_count": 88,
   "metadata": {},
   "outputs": [],
   "source": [
    "x = np.array([4, 3, 5, 4, 8, 2, 5, 9, 3, 5])\n",
    "n = x.size\n",
    "lambda_hat = x.mean()\n",
    "z = norm.ppf(q=1 - 0.01 / 2, loc=0, scale=1)"
   ]
  },
  {
   "cell_type": "code",
   "execution_count": 89,
   "metadata": {
    "tags": []
   },
   "outputs": [
    {
     "output_type": "stream",
     "name": "stdout",
     "text": "3.015 <= mu <= 6.585\n"
    }
   ],
   "source": [
    "L = lambda_hat - z * np.sqrt(lambda_hat / n)\n",
    "U = lambda_hat + z * np.sqrt(lambda_hat / n)\n",
    "print(f\"{L:.3f} <= mu <= {U:.3f}\")"
   ]
  },
  {
   "cell_type": "code",
   "execution_count": null,
   "metadata": {},
   "outputs": [],
   "source": []
  }
 ]
}